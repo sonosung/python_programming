{
  "nbformat": 4,
  "nbformat_minor": 0,
  "metadata": {
    "colab": {
      "provenance": [],
      "include_colab_link": true
    },
    "kernelspec": {
      "name": "python3",
      "display_name": "Python 3"
    },
    "language_info": {
      "name": "python"
    }
  },
  "cells": [
    {
      "cell_type": "markdown",
      "metadata": {
        "id": "view-in-github",
        "colab_type": "text"
      },
      "source": [
        "<a href=\"https://colab.research.google.com/github/sonosung/python_programming/blob/main/9%EA%B0%95_%EC%8B%A4%EC%8A%B5(%EC%9B%90%EB%B3%B8).ipynb\" target=\"_parent\"><img src=\"https://colab.research.google.com/assets/colab-badge.svg\" alt=\"Open In Colab\"/></a>"
      ]
    },
    {
      "cell_type": "markdown",
      "source": [
        "# 9강 1절"
      ],
      "metadata": {
        "id": "CAj_VKRq4Mhy"
      }
    },
    {
      "cell_type": "markdown",
      "source": [
        "**원뿔 부피 계산 함수 정의**"
      ],
      "metadata": {
        "id": "-0FrgkDm_YRK"
      }
    },
    {
      "cell_type": "code",
      "execution_count": null,
      "metadata": {
        "id": "OhGWjvMSf_uP"
      },
      "outputs": [],
      "source": [
        "if rad > 0 and hei > 0 :\n",
        "    # r, h 모두 양수일 때\n",
        "    vol = 1/3 * 3.14 * rad ** 2 * hei\n",
        "    print(\"원뿔의 부피는\", vol, \"입니다.\")\n",
        "else :\n",
        "  # r, h가 음수일 때\n",
        "  print(\"반지름과 높이 값에 양수를 입력하세요\")\n"
      ]
    },
    {
      "cell_type": "markdown",
      "source": [
        "**원뿔 부피 계산 함수 호출**"
      ],
      "metadata": {
        "id": "ygj-h_dt_elG"
      }
    },
    {
      "cell_type": "code",
      "source": [
        "def prt_cone_vol(r, h) :\n",
        "    if r > 0 and h > 0 : #r,h가 양수일 때\n",
        "      vol = 1/3 * 3.14 * r ** 2 * h\n",
        "      print(\"원뿔의 부피는\", vol , \"입니다\")\n",
        "    else : #r,h가 음수일 때\n",
        "      print(\"반지름과 높이 값에 양수를 입력하세요\")\n",
        "\n",
        "r=20\n",
        "h=30\n",
        "prt_cone_vol(r, h)"
      ],
      "metadata": {
        "id": "Kgl7g457gFnj",
        "outputId": "8442d9f4-400c-4a4f-fdca-8e0b8dd28f52",
        "colab": {
          "base_uri": "https://localhost:8080/"
        }
      },
      "execution_count": 3,
      "outputs": [
        {
          "output_type": "stream",
          "name": "stdout",
          "text": [
            "원뿔의 부피는 12559.999999999998 입니다\n"
          ]
        }
      ]
    },
    {
      "cell_type": "code",
      "source": [
        "r = -20\n",
        "h = 30\n",
        "prt_cone_vol(r,h)"
      ],
      "metadata": {
        "id": "wLQw2-SFa4hg",
        "outputId": "554f05ae-43bc-4a4d-f017-d36735c5b4dd",
        "colab": {
          "base_uri": "https://localhost:8080/"
        }
      },
      "execution_count": 4,
      "outputs": [
        {
          "output_type": "stream",
          "name": "stdout",
          "text": [
            "반지름과 높이 값에 양수를 입력하세요\n"
          ]
        }
      ]
    },
    {
      "cell_type": "markdown",
      "source": [
        "**숫자를 입력받고 역순으로 출력하는 함수를 사용한 프로그램 문제**"
      ],
      "metadata": {
        "id": "3T0GpqYK_jXA"
      }
    },
    {
      "cell_type": "code",
      "source": [
        "num = 1234\n",
        "\n",
        "digit = num % 10\n",
        "\n",
        "print(digit)"
      ],
      "metadata": {
        "id": "nsHHCmKB_pnQ",
        "outputId": "480accea-ae15-45fe-cd6f-7be8fd185a41",
        "colab": {
          "base_uri": "https://localhost:8080/"
        }
      },
      "execution_count": 5,
      "outputs": [
        {
          "output_type": "stream",
          "name": "stdout",
          "text": [
            "4\n"
          ]
        }
      ]
    },
    {
      "cell_type": "code",
      "source": [
        "num = 1234\n",
        "\n",
        "def reverse(num) :\n",
        "        while num != 0 :\n",
        "                digit = num % 10\n",
        "                num = num // 10\n",
        "                print(digit, end=\"\")\n",
        "\n",
        "reverse(num)"
      ],
      "metadata": {
        "id": "Kq8QhAGlbN6W",
        "outputId": "061ad2fc-4cec-4d26-c345-55cfbcd636da",
        "colab": {
          "base_uri": "https://localhost:8080/"
        }
      },
      "execution_count": 14,
      "outputs": [
        {
          "output_type": "stream",
          "name": "stdout",
          "text": [
            "4321"
          ]
        }
      ]
    },
    {
      "cell_type": "markdown",
      "source": [
        "# 9강 2절"
      ],
      "metadata": {
        "id": "bw1IBTsp4wMv"
      }
    },
    {
      "cell_type": "markdown",
      "source": [
        "**원뿔 부피 계산 결과 반환 함수 정의**"
      ],
      "metadata": {
        "id": "454aKvSdAI2a"
      }
    },
    {
      "cell_type": "code",
      "source": [
        "def return_cone_vol(r, h) :\n",
        "    if r > 0 and h > 0 :\n",
        "      #r,h가 모두 양수일 때\n",
        "      vol = 1/3 * 3.14 * r ** 2 * h\n",
        "      return vol\n",
        "    else :\n",
        "      #r,h가 음수일 때\n",
        "      print(\"반지름과 높이 값에 양수를 입력하세요\")\n",
        "\n",
        "r=20\n",
        "h=30\n",
        "print(format(return_cone_vol(r, h), \"<20.3f\"), \"입니다.\")"
      ],
      "metadata": {
        "id": "X8lfqqRBAQfV"
      },
      "execution_count": 22,
      "outputs": []
    },
    {
      "cell_type": "markdown",
      "source": [
        "**원뿔 부피 및 겉넓이 반환 함수 정의**"
      ],
      "metadata": {
        "id": "Ae2D5Cal_szh"
      }
    },
    {
      "cell_type": "code",
      "source": [
        "def return_cone_vol_surf(r, h) :\n",
        "    if r > 0 and h > 0 :\n",
        "      #r,h가 모두 양수일 때\n",
        "      vol = 1/3 * 3.14 * r ** 2 * h\n",
        "      surf = 3.14 * r ** 2 + 3.14 * r * h\n",
        "      return vol, surf\n",
        "    else :\n",
        "      #r,h가 음수일 때\n",
        "      print(\"반지름과 높이 값에 양수를 입력하세요\")\n",
        "\n",
        "print(return_cone_vol_surf(50, 100), \"입니다.\")"
      ],
      "metadata": {
        "id": "cwZ6g1au45RD",
        "outputId": "c102f9ce-49f1-43e3-f695-930fdf63e134",
        "colab": {
          "base_uri": "https://localhost:8080/"
        }
      },
      "execution_count": 27,
      "outputs": [
        {
          "output_type": "stream",
          "name": "stdout",
          "text": [
            "(261666.66666666666, 23550.0) 입니다.\n"
          ]
        }
      ]
    },
    {
      "cell_type": "code",
      "source": [
        "vol, surf = return_cone_vol_surf(20, 30) #동시 할당\n",
        "print(\"부피는\", vol, \"입니다.\")\n",
        "print(\"겉넓이는\", surf, \"입니다.\")"
      ],
      "metadata": {
        "id": "CzMrFz6phPP6",
        "outputId": "581fbb2a-13a5-44c9-a1cb-9a253679c26d",
        "colab": {
          "base_uri": "https://localhost:8080/"
        }
      },
      "execution_count": 29,
      "outputs": [
        {
          "output_type": "stream",
          "name": "stdout",
          "text": [
            "부피는 12559.999999999998 입니다.\n",
            "겉넓이는 3140.0 입니다.\n"
          ]
        }
      ]
    },
    {
      "cell_type": "markdown",
      "source": [
        "**세 개의 사용자 입력을 오름차순으로 정렬하는 함수를 이용하여 정렬된 값을 출력하는 문제**\n"
      ],
      "metadata": {
        "id": "0FMNpd_4Ah9j"
      }
    },
    {
      "cell_type": "code",
      "source": [
        "a = int(input(\"첫번째 숫자를 입력하세요: \"))\n",
        "b = int(input(\"두번째 숫자를 입력하세요: \"))\n",
        "c = int(input(\"세번째 숫자를 입력하세요: \"))\n",
        "\n",
        "def sort3(a, b, c) :\n",
        "  if a > b :\n",
        "    a, b = b, a\n",
        "  if a > c :\n",
        "    a, c = c, a\n",
        "  if b > c :\n",
        "    b , c = c, b\n",
        "  print(a, b, c)\n",
        "\n",
        "sort3(a, b, c)\n",
        "print(\"출력이후\", a, b, c) #함수 내부에는 값만 전달되므로, 변수에는 영향이 가지 않음."
      ],
      "metadata": {
        "id": "toh-zjeLArWn",
        "outputId": "cea6ec32-1c2a-46ca-e2db-9011213b7486",
        "colab": {
          "base_uri": "https://localhost:8080/"
        }
      },
      "execution_count": 36,
      "outputs": [
        {
          "output_type": "stream",
          "name": "stdout",
          "text": [
            "첫번째 숫자를 입력하세요: 30\n",
            "두번째 숫자를 입력하세요: 20\n",
            "세번째 숫자를 입력하세요: 10\n",
            "10 20 30\n",
            "출력이후 30 20 10\n"
          ]
        }
      ]
    },
    {
      "cell_type": "markdown",
      "source": [
        "# 9강 3절"
      ],
      "metadata": {
        "id": "7qOMFABd4y1t"
      }
    },
    {
      "cell_type": "markdown",
      "source": [
        "**값의 전달**"
      ],
      "metadata": {
        "id": "pVwxXsFLBCY-"
      }
    },
    {
      "cell_type": "code",
      "source": [
        "x = 1\n",
        "def inc1():\n",
        "  y = x + 1\n",
        "  print(\"y의 값\", y)\n",
        "\n",
        "inc1()\n",
        "print(\"x의 값\", x)"
      ],
      "metadata": {
        "id": "ubgnND48oqq-",
        "outputId": "e5fb8f8e-3bf2-4fcf-ba33-5b8e77bd3008",
        "colab": {
          "base_uri": "https://localhost:8080/"
        }
      },
      "execution_count": 59,
      "outputs": [
        {
          "output_type": "stream",
          "name": "stdout",
          "text": [
            "y의 값 2\n",
            "x의 값 1\n"
          ]
        }
      ]
    },
    {
      "cell_type": "code",
      "source": [
        "def return_cone_vol(r, h) :\n",
        "        if r > 0 and h > 0 :\n",
        "          vol = 1/3 * 3.14 * r ** 2 * h\n",
        "          r, h = 0, 0\n",
        "          return vol\n",
        "        else :\n",
        "          print(\"양수를 입력하세요\")\n",
        "\n",
        "r = 50\n",
        "h = 100\n",
        "print(format(return_cone_vol(r, h), \">10.3f\"))\n",
        "print(\"함수 사용 후\", r, h)"
      ],
      "metadata": {
        "id": "cwoR_CQp45ti",
        "outputId": "049877ff-13ab-4f54-c9e9-709c614d19b2",
        "colab": {
          "base_uri": "https://localhost:8080/"
        }
      },
      "execution_count": 52,
      "outputs": [
        {
          "output_type": "stream",
          "name": "stdout",
          "text": [
            "261666.667\n",
            "함수 사용 후 50 100\n"
          ]
        }
      ]
    },
    {
      "cell_type": "markdown",
      "source": [
        "**변수의 스코프**"
      ],
      "metadata": {
        "id": "Wybq2K3yBJ8C"
      }
    },
    {
      "cell_type": "code",
      "source": [
        "x = 1\n",
        "print(\"1. x의 값 :\", x)\n",
        "\n",
        "def inc(x) :\n",
        "        x = x + 1\n",
        "        print(\"2. x의 값 :\", x)\n",
        "\n",
        "inc(x)\n",
        "print(\"3. x의 값\", x)        #x 함수 내부와 외부에 사용되는 변수의 스코프가 다르므로, 변수 이름을 잘 설정해야함."
      ],
      "metadata": {
        "id": "6ZuNFN9BBWKR",
        "outputId": "f57adda2-4d1e-40e1-bcaa-bdd810af8abb",
        "colab": {
          "base_uri": "https://localhost:8080/"
        }
      },
      "execution_count": 55,
      "outputs": [
        {
          "output_type": "stream",
          "name": "stdout",
          "text": [
            "1. x의 값 : 1\n",
            "2. x의 값 : 2\n",
            "3. x의 값 1\n"
          ]
        }
      ]
    },
    {
      "cell_type": "markdown",
      "source": [
        "**단위 원뿔(반지름 20, 높이 30)의 부피와 겉넓이를 출력하는 문제**"
      ],
      "metadata": {
        "id": "YDpFj9zqBL35"
      }
    },
    {
      "cell_type": "code",
      "source": [
        "# 원뿔 계산 함수 정의\n",
        "def rtn_cone_vol_surf(r = 20, h = 30) : #변수 기본값 설정\n",
        "    if r > 0 and h > 0 :\n",
        "        # r, h 모두 양수일 때\n",
        "        return  1/3 * 3.14 * r ** 2 * h, 3.14 * r ** 2 + 3.14 * r * h\n",
        "    else :\n",
        "        # r, h가 음수일 때\n",
        "        print(\"반지름과 높이 값에 양수를 입력하세요\")\n",
        "\n",
        "print(rtn_cone_vol_surf()) #매개변수 없이 함수의 기본값으로 매개변수를 사용함."
      ],
      "metadata": {
        "id": "mzWTObQdBXHc",
        "outputId": "b65675ba-8008-4715-efd9-1d7cd071f4d6",
        "colab": {
          "base_uri": "https://localhost:8080/"
        }
      },
      "execution_count": 58,
      "outputs": [
        {
          "output_type": "stream",
          "name": "stdout",
          "text": [
            "(12559.999999999998, 3140.0)\n"
          ]
        }
      ]
    },
    {
      "cell_type": "markdown",
      "source": [
        "**여러개의 수를 입력받고 합과 평균을 반환하는는 var_sum_avg 함수를 사용하여, (20, 25, 10, 85, 100, 150)에 대한 합과 평균을 출력하는 프로그램을 작성하시오.**\n"
      ],
      "metadata": {
        "id": "WqqJAJ0ACOjj"
      }
    },
    {
      "cell_type": "code",
      "source": [
        "def var_sum_avg(*numbers) :  #변수 값에 *를 붙이면 가변 매개변수로 쓸 수 있다. 일반 매개변수 앞에 쓸 수 없고, 한 함수에 1개의 가변 매개변수만 사용 가능.\n",
        "        sum = 0\n",
        "        count = 0\n",
        "\n",
        "        for i in numbers :\n",
        "              sum = sum + i\n",
        "              count = count + 1\n",
        "\n",
        "        return sum, sum/count\n",
        "\n",
        "print(var_sum_avg(20, 25, 10, 85, 100, 150))"
      ],
      "metadata": {
        "id": "GDZkR-SKCVth",
        "outputId": "c67e54fe-82dd-40fc-e3ec-95e7209825ce",
        "colab": {
          "base_uri": "https://localhost:8080/"
        }
      },
      "execution_count": 68,
      "outputs": [
        {
          "output_type": "stream",
          "name": "stdout",
          "text": [
            "(390, 65.0)\n"
          ]
        }
      ]
    },
    {
      "cell_type": "code",
      "source": [],
      "metadata": {
        "id": "o_YDLvRMpIe9"
      },
      "execution_count": null,
      "outputs": []
    }
  ]
}