{
  "nbformat": 4,
  "nbformat_minor": 0,
  "metadata": {
    "colab": {
      "provenance": [],
      "include_colab_link": true
    },
    "kernelspec": {
      "name": "python3",
      "display_name": "Python 3"
    },
    "language_info": {
      "name": "python"
    }
  },
  "cells": [
    {
      "cell_type": "markdown",
      "metadata": {
        "id": "view-in-github",
        "colab_type": "text"
      },
      "source": [
        "<a href=\"https://colab.research.google.com/github/sonosung/python_programming/blob/main/4%EA%B0%95_%EC%8B%A4%EC%8A%B5(%EC%9B%90%EB%B3%B8).ipynb\" target=\"_parent\"><img src=\"https://colab.research.google.com/assets/colab-badge.svg\" alt=\"Open In Colab\"/></a>"
      ]
    },
    {
      "cell_type": "markdown",
      "source": [
        "# 4강 1절"
      ],
      "metadata": {
        "id": "8qm2njbqj44L"
      }
    },
    {
      "cell_type": "code",
      "source": [
        "\"Hello World!\""
      ],
      "metadata": {
        "id": "Rupa9hQnfVSx",
        "colab": {
          "base_uri": "https://localhost:8080/",
          "height": 36
        },
        "outputId": "5b71aad3-c4ae-4377-90e9-0aeec58a6f6d"
      },
      "execution_count": 11,
      "outputs": [
        {
          "output_type": "execute_result",
          "data": {
            "text/plain": [
              "'Hello World!'"
            ],
            "application/vnd.google.colaboratory.intrinsic+json": {
              "type": "string"
            }
          },
          "metadata": {},
          "execution_count": 11
        }
      ]
    },
    {
      "cell_type": "code",
      "source": [
        "1 * (2 + 2) * 1"
      ],
      "metadata": {
        "colab": {
          "base_uri": "https://localhost:8080/"
        },
        "id": "8_pn_5rItHAf",
        "outputId": "641ba824-c2a3-4a96-db22-208f19819275"
      },
      "execution_count": 4,
      "outputs": [
        {
          "output_type": "execute_result",
          "data": {
            "text/plain": [
              "4"
            ]
          },
          "metadata": {},
          "execution_count": 4
        }
      ]
    },
    {
      "cell_type": "code",
      "source": [
        "2 ** 10 * 5"
      ],
      "metadata": {
        "colab": {
          "base_uri": "https://localhost:8080/"
        },
        "id": "m8Vl9GT4tL12",
        "outputId": "e7a71769-4886-49a9-a847-4990098f4b80"
      },
      "execution_count": 5,
      "outputs": [
        {
          "output_type": "execute_result",
          "data": {
            "text/plain": [
              "5120"
            ]
          },
          "metadata": {},
          "execution_count": 5
        }
      ]
    },
    {
      "cell_type": "code",
      "source": [
        "\"컴퓨터\" + \"과학\""
      ],
      "metadata": {
        "colab": {
          "base_uri": "https://localhost:8080/",
          "height": 36
        },
        "id": "w62zJ3sItr45",
        "outputId": "dd4dccf9-60d5-415c-b568-c4b3f0c794be"
      },
      "execution_count": 6,
      "outputs": [
        {
          "output_type": "execute_result",
          "data": {
            "text/plain": [
              "'컴퓨터과학'"
            ],
            "application/vnd.google.colaboratory.intrinsic+json": {
              "type": "string"
            }
          },
          "metadata": {},
          "execution_count": 6
        }
      ]
    },
    {
      "cell_type": "code",
      "source": [
        "\"2\" + \"3\" + \" \" + \"2\""
      ],
      "metadata": {
        "colab": {
          "base_uri": "https://localhost:8080/",
          "height": 36
        },
        "id": "lSY34Qf4twGs",
        "outputId": "804117b8-9db8-49e0-e4f3-89e3e1a9de0e"
      },
      "execution_count": 8,
      "outputs": [
        {
          "output_type": "execute_result",
          "data": {
            "text/plain": [
              "'23 2'"
            ],
            "application/vnd.google.colaboratory.intrinsic+json": {
              "type": "string"
            }
          },
          "metadata": {},
          "execution_count": 8
        }
      ]
    },
    {
      "cell_type": "code",
      "source": [
        "print(8*8)"
      ],
      "metadata": {
        "colab": {
          "base_uri": "https://localhost:8080/"
        },
        "id": "4HyfquT6t1iq",
        "outputId": "993d51d8-dcd1-44c9-eda8-3f88b553c743"
      },
      "execution_count": 9,
      "outputs": [
        {
          "output_type": "stream",
          "name": "stdout",
          "text": [
            "64\n"
          ]
        }
      ]
    },
    {
      "cell_type": "code",
      "source": [
        "print(\"python\")"
      ],
      "metadata": {
        "colab": {
          "base_uri": "https://localhost:8080/"
        },
        "id": "iqRYRRBYt7F9",
        "outputId": "0250376a-b694-4f8b-8eec-d91efa909ee8"
      },
      "execution_count": 13,
      "outputs": [
        {
          "output_type": "stream",
          "name": "stdout",
          "text": [
            "python\n"
          ]
        }
      ]
    },
    {
      "cell_type": "code",
      "source": [
        "print(\"python\")\n",
        "print(\"is fun\")"
      ],
      "metadata": {
        "colab": {
          "base_uri": "https://localhost:8080/"
        },
        "id": "pL16WzDquEPr",
        "outputId": "32959575-51d4-4e75-cbb0-34d0d8ceb9fd"
      },
      "execution_count": 15,
      "outputs": [
        {
          "output_type": "stream",
          "name": "stdout",
          "text": [
            "python\n",
            "is fun\n"
          ]
        }
      ]
    },
    {
      "cell_type": "markdown",
      "source": [
        "# 4강 2절"
      ],
      "metadata": {
        "id": "XA4yR0RDjgNl"
      }
    },
    {
      "cell_type": "code",
      "source": [
        "print(1 / 3 * 3.14 * 20 ** 2 * 30 )\n",
        "print(3.14 * 20 ** 2 + 3.14 * 20 * 30)"
      ],
      "metadata": {
        "id": "buMmaXCXjk6D",
        "colab": {
          "base_uri": "https://localhost:8080/"
        },
        "outputId": "b957ec9f-0229-4b87-9885-7891e9b72010"
      },
      "execution_count": 12,
      "outputs": [
        {
          "output_type": "stream",
          "name": "stdout",
          "text": [
            "12559.999999999998\n",
            "3140.0\n"
          ]
        }
      ]
    },
    {
      "cell_type": "code",
      "source": [
        "#주석. 더하기 연산\n",
        "print(1 + 1)"
      ],
      "metadata": {
        "colab": {
          "base_uri": "https://localhost:8080/"
        },
        "id": "CWCSkW6XuGcA",
        "outputId": "600d61ee-16a7-4652-fcd6-073752843d56"
      },
      "execution_count": 16,
      "outputs": [
        {
          "output_type": "stream",
          "name": "stdout",
          "text": [
            "2\n"
          ]
        }
      ]
    },
    {
      "cell_type": "code",
      "source": [
        "#반지름, 높이 값 할당\n",
        "rad = 20\n",
        "hei = 30\n",
        "\n",
        "#부피출력\n",
        "print(1 / 3 * 3.14 * rad ** 2 * hei)\n",
        "\n",
        "#겉넓이출력\n",
        "print(3.14 * rad ** 2 + 3.14 * rad * hei)\n",
        "\n",
        "#문자열로 출력\n",
        "print(\"부피 : \" + str(1 / 3 * 3.14 * rad ** 2 * hei))\n",
        "print(\"겉넓이 : \" + str(3.14 * rad ** 2 + 3.14 * rad * hei))"
      ],
      "metadata": {
        "colab": {
          "base_uri": "https://localhost:8080/"
        },
        "id": "2bLiinbuuaQq",
        "outputId": "a68bff25-291e-46ba-962d-a79204569b93"
      },
      "execution_count": 24,
      "outputs": [
        {
          "output_type": "stream",
          "name": "stdout",
          "text": [
            "12559.999999999998\n",
            "3140.0\n",
            "부피 : 12559.999999999998\n",
            "겉넓이 : 3140.0\n"
          ]
        }
      ]
    },
    {
      "cell_type": "code",
      "source": [
        "# prompt: 파이썬 내장함수 리스트\n",
        "\n",
        "# 파이썬 내장 함수 리스트는 다음과 같습니다.\n",
        "\n",
        "#대표적 내장함수\n",
        "# max(): iterable의 최대 값을 반환합니다.\n",
        "# min(): iterable의 최소 값을 반환합니다.\n",
        "# round(): 값을 반올림합니다.\n",
        "# abs(): 숫자의 절댓값을 반환합니다.\n",
        "# pow(): 거듭제곱을 계산합니다.\n",
        "\n",
        "\n",
        "# all(): iterable의 모든 요소가 참이면 True를 반환합니다.\n",
        "# any(): iterable의 요소 중 하나라도 참이면 True를 반환합니다.\n",
        "# ascii(): 문자열의 ASCII 표현을 반환합니다.\n",
        "# bin(): 정수의 이진 표현을 반환합니다.\n",
        "# bool(): 값을 불리언 값으로 변환합니다.\n",
        "# bytearray(): 바이트 배열을 반환합니다.\n",
        "# bytes(): 바이트 객체를 반환합니다.\n",
        "# callable(): 객체가 호출 가능한지 확인합니다.\n",
        "# chr(): 정수를 문자로 변환합니다.\n",
        "# classmethod(): 클래스 메서드를 만듭니다.\n",
        "# compile(): 코드를 컴파일합니다.\n",
        "# complex(): 복소수를 만듭니다.\n",
        "# delattr(): 객체의 속성을 삭제합니다.\n",
        "# dict(): 사전을 만듭니다.\n",
        "# dir(): 객체의 속성 목록을 반환합니다.\n",
        "# divmod(): 몫과 나머지를 반환합니다.\n",
        "# enumerate(): iterable의 요소를 인덱스와 함께 반환합니다.\n",
        "# eval(): 문자열을 실행합니다.\n",
        "# exec(): 문자열을 실행합니다.\n",
        "# filter(): iterable의 요소를 필터링합니다.\n",
        "# float(): 값을 부동 소수점 숫자로 변환합니다.\n",
        "# format(): 값을 서식화합니다.\n",
        "# frozenset(): 불변 집합을 만듭니다.\n",
        "# getattr(): 객체의 속성을 가져옵니다.\n",
        "# globals(): 전역 변수 딕셔너리를 반환합니다.\n",
        "# hasattr(): 객체에 속성이 있는지 확인합니다.\n",
        "# hash(): 객체의 해시 값을 반환합니다.\n",
        "# help(): 도움말을 표시합니다.\n",
        "# hex(): 정수의 16진수 표현을 반환합니다.\n",
        "# id(): 객체의 ID를 반환합니다.\n",
        "# input(): 사용자 입력을 받습니다.\n",
        "# int(): 값을 정수로 변환합니다.\n",
        "# isinstance(): 객체가 지정된 클래스의 인스턴스인지 확인합니다.\n",
        "# issubclass(): 클래스가 지정된 클래스의 서브클래스인지 확인합니다.\n",
        "# iter(): iterable 객체를 반환합니다.\n",
        "# len(): 객체의 길이를 반환합니다.\n",
        "# list(): 리스트를 만듭니다.\n",
        "# locals(): 지역 변수 딕셔너리를 반환합니다.\n",
        "# map(): 함수를 iterable의 각 요소에 적용합니다.\n",
        "# memoryview(): 메모리 뷰를 만듭니다.\n",
        "# next(): iterator의 다음 요소를 반환합니다.\n",
        "# object(): 객체를 만듭니다.\n",
        "# oct(): 정수의 8진수 표현을 반환합니다.\n",
        "# open(): 파일을 엽니다.\n",
        "# ord(): 문자를 정수로 변환합니다.\n",
        "# print(): 값을 출력합니다.\n",
        "# property(): 속성을 만듭니다.\n",
        "# range(): 숫자 범위를 생성합니다.\n",
        "# repr(): 객체의 표현을 반환합니다.\n",
        "# reversed(): iterable의 순서를 반전시킵니다.\n",
        "# set(): 집합을 만듭니다.\n",
        "# setattr(): 객체의 속성을 설정합니다.\n",
        "# slice(): 슬라이스 객체를 만듭니다.\n",
        "# sorted(): iterable을 정렬합니다.\n",
        "# staticmethod(): 정적 메서드를 만듭니다.\n",
        "# str(): 값을 문자열로 변환합니다.\n",
        "# sum(): iterable의 요소를 합산합니다.\n",
        "# super(): 상위 클래스를 호출합니다.\n",
        "# tuple(): 튜플을 만듭니다.\n",
        "# type(): 객체의 유형을 반환합니다.\n",
        "# vars(): 객체의 속성 딕셔너리를 반환합니다.\n",
        "# zip(): iterable을 묶습니다.\n",
        "\n",
        "# 이 목록은 완벽하지 않을 수 있으며, 파이썬 버전에 따라 함수가 다를 수 있습니다.\n"
      ],
      "metadata": {
        "id": "pCDcg7NZyT3O"
      },
      "execution_count": null,
      "outputs": []
    },
    {
      "cell_type": "code",
      "source": [
        "5 / 2"
      ],
      "metadata": {
        "id": "-CKR2X3ozvPG",
        "outputId": "e0feeb72-ce82-44cc-efcf-28793ed068f3",
        "colab": {
          "base_uri": "https://localhost:8080/"
        }
      },
      "execution_count": 25,
      "outputs": [
        {
          "output_type": "execute_result",
          "data": {
            "text/plain": [
              "2.5"
            ]
          },
          "metadata": {},
          "execution_count": 25
        }
      ]
    },
    {
      "cell_type": "code",
      "source": [
        "5 // 2 #몫. 정수부분만 출력"
      ],
      "metadata": {
        "id": "MFQ2EJ2nzyAu",
        "outputId": "ca98689d-d153-4203-a085-992646a01e28",
        "colab": {
          "base_uri": "https://localhost:8080/"
        }
      },
      "execution_count": 27,
      "outputs": [
        {
          "output_type": "execute_result",
          "data": {
            "text/plain": [
              "2"
            ]
          },
          "metadata": {},
          "execution_count": 27
        }
      ]
    },
    {
      "cell_type": "code",
      "source": [
        "25 % 7 #나머지 값 출력"
      ],
      "metadata": {
        "id": "gbduNhfjz3_G",
        "outputId": "df0c08c1-6b3d-450e-fb4a-5a3c7717d09b",
        "colab": {
          "base_uri": "https://localhost:8080/"
        }
      },
      "execution_count": 28,
      "outputs": [
        {
          "output_type": "execute_result",
          "data": {
            "text/plain": [
              "4"
            ]
          },
          "metadata": {},
          "execution_count": 28
        }
      ]
    },
    {
      "cell_type": "code",
      "source": [
        "8.4 % 0.9"
      ],
      "metadata": {
        "id": "6uARUXo80AGJ",
        "outputId": "653367f7-2fd4-4100-8a25-aae77fc3a6b0",
        "colab": {
          "base_uri": "https://localhost:8080/"
        }
      },
      "execution_count": 29,
      "outputs": [
        {
          "output_type": "execute_result",
          "data": {
            "text/plain": [
              "0.30000000000000016"
            ]
          },
          "metadata": {},
          "execution_count": 29
        }
      ]
    },
    {
      "cell_type": "code",
      "source": [
        "number = 10\n",
        "number % 2\n",
        "\n",
        "if number % 2 == 1:\n",
        "  print(\"홀수\")\n",
        "elif number % 2 == 0:\n",
        "  print(\"짝수\")"
      ],
      "metadata": {
        "id": "bpXlMISY0Cte",
        "outputId": "601ec4de-63fd-4b85-bbcd-38fe55b7b40c",
        "colab": {
          "base_uri": "https://localhost:8080/"
        }
      },
      "execution_count": 37,
      "outputs": [
        {
          "output_type": "stream",
          "name": "stdout",
          "text": [
            "짝수\n"
          ]
        }
      ]
    },
    {
      "cell_type": "code",
      "source": [],
      "metadata": {
        "id": "KmfB8N4U0IjU"
      },
      "execution_count": null,
      "outputs": []
    }
  ]
}